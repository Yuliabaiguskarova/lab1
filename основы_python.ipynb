{
  "cells": [
    {
      "cell_type": "markdown",
      "metadata": {
        "id": "M-DGa20PaHnu"
      },
      "source": [
        "#Задача 1\n",
        "Написать функцию на вход которой подается строка, состоящая из латинских букв.\n",
        "Функция должна вернуть количество гласных букв (a, e, i, o, u) в этой строке. Написать тесты для кода"
      ]
    },
    {
      "cell_type": "code",
      "execution_count": 1,
      "metadata": {
        "id": "XvX8X_JJ6PCb"
      },
      "outputs": [
        {
          "name": "stdout",
          "output_type": "stream",
          "text": [
            "6\n",
            "Первый тест пройден\n",
            "Второй тест пройден\n",
            "Третий тест пройден\n",
            "Четвертый тест пройден\n",
            "Пятый тест пройден\n"
          ]
        }
      ],
      "source": [
        "s = input()\n",
        "\n",
        "def count_vowels(s):\n",
        "\n",
        "    vowels = set(\"aeiouAEIOU\")\n",
        "    count = 0\n",
        "\n",
        "    for char in s:\n",
        "        if char in vowels:\n",
        "            count += 1\n",
        "\n",
        "    return count\n",
        "\n",
        "print(count_vowels(s))\n",
        "\n",
        "def test_count_vowels():\n",
        "    # строка с разными гласными\n",
        "    assert count_vowels(\"hello\") == 2, \"Первый тест провален\"\n",
        "    print(\"Первый тест пройден\")\n",
        "\n",
        "    # строка без гласных\n",
        "    assert count_vowels(\"bcdfgh\") == 0, \"Второй тест провален\"\n",
        "    print(\"Второй тест пройден\")\n",
        "\n",
        "    # строка со всеми гласными\n",
        "    assert count_vowels(\"aeiou\") == 5, \"Третий тест провален\"\n",
        "    print(\"Третий тест пройден\")\n",
        "\n",
        "    # строка с гласными в разном регистре\n",
        "    assert count_vowels(\"AeIoU\") == 5, \"Четвертый тест провален\"\n",
        "    print(\"Четвертый тест пройден\")\n",
        "\n",
        "    #  пустая строка\n",
        "    assert count_vowels(\"\") == 0, \"Пятый тест провален\"\n",
        "    print(\"Пятый тест пройден\")\n",
        "\n",
        "test_count_vowels()"
      ]
    },
    {
      "cell_type": "markdown",
      "metadata": {
        "id": "t2ClV_Y0bbr6"
      },
      "source": [
        "# Задача 2\n",
        "Написать функцию на вход, которой подается строка. Функция должна вернуть true, если\n",
        "каждый символ в строке встречается только 1 раз, иначе должна вернуть false. Написать тесты для кода"
      ]
    },
    {
      "cell_type": "code",
      "execution_count": 2,
      "metadata": {
        "id": "FppbECao6VIz"
      },
      "outputs": [
        {
          "name": "stdout",
          "output_type": "stream",
          "text": [
            "False\n",
            "Первый тест пройден\n",
            "Второй тест пройден\n",
            "Третий тест пройден\n",
            "Четвертый тест пройден\n",
            "Пятый тест пройден\n"
          ]
        }
      ],
      "source": [
        "s = input()\n",
        "\n",
        "def is_unique(s):\n",
        "\n",
        "    seen = set()\n",
        "\n",
        "    for char in s:\n",
        "        if char in seen:\n",
        "            return False\n",
        "        seen.add(char)\n",
        "\n",
        "    return True\n",
        "\n",
        "print(is_unique(s))\n",
        "\n",
        "def test_is_unique():\n",
        "    #  строка с уникальными символами\n",
        "    assert is_unique(\"abcdef\") == True, \"Первый тест провален\"\n",
        "    print(\"Первый тест пройден\")\n",
        "\n",
        "    #  строка с повторяющимися символами\n",
        "    assert is_unique(\"hello\") == False, \"Второй тест провален\"\n",
        "    print(\"Второй тест пройден\")\n",
        "\n",
        "    # пустая строка (по умолчанию все символы уникальны)\n",
        "    assert is_unique(\"\") == True, \"Третий тест провален\"\n",
        "    print(\"Третий тест пройден\")\n",
        "\n",
        "    # строка с одним символом\n",
        "    assert is_unique(\"a\") == True, \"Четвертый тест провален\"\n",
        "    print(\"Четвертый тест пройден\")\n",
        "\n",
        "    # строка с повторяющимися символами в разном регистре\n",
        "    assert is_unique(\"AaBbCc\") == True, \"Пятый тест провален\"\n",
        "    print(\"Пятый тест пройден\")\n",
        "\n",
        "\n",
        "test_is_unique()"
      ]
    },
    {
      "cell_type": "markdown",
      "metadata": {
        "id": "udRiIK1cdt6E"
      },
      "source": [
        "# Задача 3\n",
        "Написать функцию, которая принимает положительное число и возвращает количество\n",
        "бит равных 1 в этом числе. Написать тесты для кода"
      ]
    },
    {
      "cell_type": "code",
      "execution_count": 3,
      "metadata": {
        "id": "6tkfDJRz6dp_"
      },
      "outputs": [
        {
          "name": "stdout",
          "output_type": "stream",
          "text": [
            "2\n",
            "Первый тест пройден\n",
            "Второй тест пройден\n",
            "Третий тест пройден\n",
            "Четвертый тест пройден\n",
            "Пятый тест пройден\n",
            "Шестой тест пройден\n"
          ]
        }
      ],
      "source": [
        "n = int(input())\n",
        "\n",
        "def count_bits(n):\n",
        "\n",
        "    if n < 0:\n",
        "        return 'Число должно быть больше нуля'\n",
        "\n",
        "    return bin(n).count('1')\n",
        "\n",
        "print(count_bits(n))\n",
        "\n",
        "def test_count_bits():\n",
        "    # число 5 (101 в двоичной системе)\n",
        "    assert count_bits(5) == 2, \"Первый тест провален\"\n",
        "    print(\"Первый тест пройден\")\n",
        "\n",
        "    # число 0 (0 в двоичной системе)\n",
        "    assert count_bits(0) == 0, \"Второй тест провален\"\n",
        "    print(\"Второй тест пройден\")\n",
        "\n",
        "    # число 15 (1111 в двоичной системе)\n",
        "    assert count_bits(15) == 4, \"Третий тест провален\"\n",
        "    print(\"Третий тест пройден\")\n",
        "\n",
        "    # число 8 (1000 в двоичной системе)\n",
        "    assert count_bits(8) == 1, \"Четвертый тест провален\"\n",
        "    print(\"Четвертый тест пройден\")\n",
        "\n",
        "    #  число 1 (1 в двоичной системе)\n",
        "    assert count_bits(1) == 1, \"Пятый тест провален\"\n",
        "    print(\"Пятый тест пройден\")\n",
        "\n",
        "    #  число -1\n",
        "    assert count_bits(-1) == 'Число должно быть больше нуля', \"Шестой тест провален\"\n",
        "    print(\"Шестой тест пройден\")\n",
        "\n",
        "\n",
        "test_count_bits()"
      ]
    },
    {
      "cell_type": "markdown",
      "metadata": {
        "id": "26dDUz-Ae17N"
      },
      "source": [
        "# Задача 4\n",
        "Написать функцию, которая принимает положительное число. Функция должна вернуть то,\n",
        "сколько раз необходимо перемножать цифры числа или результат перемножения, чтобы\n",
        "получилось число состоящее из одной цифры.\n",
        "Например, для входного числа:\n",
        "· 39 функция должна вернуть 3, так как 3*9=27 => 2*7=14 => 1*4=4\n",
        "· 4 функция должна вернуть 0, так как число уже состоит из одной цифры\n",
        "· 999 функция должна вернуть 4, так как 9*9*9=729 => 7*2*9=126 => 1*2*6=12 =>\n",
        "1*2=2. Написать тесты для кода"
      ]
    },
    {
      "cell_type": "code",
      "execution_count": 4,
      "metadata": {
        "id": "BH1A_Mgi6i4G"
      },
      "outputs": [
        {
          "name": "stdout",
          "output_type": "stream",
          "text": [
            "3\n",
            "Первый тест пройден\n",
            "Второй тест пройден\n",
            "Третий тест пройден\n",
            "Четвертый тест пройден\n",
            "Пятый тест пройден\n",
            "Шестой тест пройден\n"
          ]
        }
      ],
      "source": [
        "n = int(input())\n",
        "\n",
        "def persistence(n):\n",
        "\n",
        "    count = 0\n",
        "\n",
        "    if n <= 0:\n",
        "        return 'Введите положительное число'\n",
        "\n",
        "    # Пока число состоит из более чем одной цифры\n",
        "    while n >= 10:\n",
        "        n = multiply_digits(n)\n",
        "        count += 1\n",
        "\n",
        "    return count\n",
        "\n",
        "\n",
        "def multiply_digits(n):\n",
        "\n",
        "    product = 1\n",
        "\n",
        "    while n > 0:\n",
        "        product *= n % 10\n",
        "        n //= 10\n",
        "    return product\n",
        "\n",
        "print(persistence(n))\n",
        "\n",
        "def test_persistence():\n",
        "    # число 39 (39 => 27 => 14 => 4)\n",
        "    assert persistence(39) == 3, \"Первый тест провален\"\n",
        "    print(\"Первый тест пройден\")\n",
        "\n",
        "    # число 4 (уже одноцифровое)\n",
        "    assert persistence(4) == 0, \"Второй тест провален\"\n",
        "    print(\"Второй тест пройден\")\n",
        "\n",
        "    # число 999 (999 => 729 => 126 => 12 => 2)\n",
        "    assert persistence(999) == 4, \"Третий тест провален\"\n",
        "    print(\"Третий тест пройден\")\n",
        "\n",
        "    # число 25 (25 => 10 => 0)\n",
        "    assert persistence(25) == 2, \"Четвертый тест провален\"\n",
        "    print(\"Четвертый тест пройден\")\n",
        "\n",
        "    # число 1 (уже одноцифровое)\n",
        "    assert persistence(1) == 0, \"Пятый тест провален\"\n",
        "    print(\"Пятый тест пройден\")\n",
        "\n",
        "    # число -1\n",
        "    assert persistence(-1) == 'Введите положительное число', \"Шестой тест провален\"\n",
        "    print(\"Шестой тест пройден\")\n",
        "\n",
        "\n",
        "test_persistence()\n"
      ]
    },
    {
      "cell_type": "markdown",
      "metadata": {
        "id": "0nS-kIa8g8vd"
      },
      "source": [
        "# Задача 5\n",
        "Написать функцию, которая принимает два целочисленных вектора одинаковой длины и\n",
        "возвращает среднеквадратическое отклонение двух векторов. Написать тесты для кода"
      ]
    },
    {
      "cell_type": "code",
      "execution_count": 5,
      "metadata": {
        "id": "8iphx4LM6xbx"
      },
      "outputs": [
        {
          "name": "stdout",
          "output_type": "stream",
          "text": [
            "[2, 2] [2, 2]\n",
            "0.0\n",
            "Все тесты пройдены.\n"
          ]
        }
      ],
      "source": [
        "import numpy as np\n",
        "\n",
        "n = int(input())\n",
        "\n",
        "pred = []\n",
        "true = []\n",
        "\n",
        "for i in range(n):\n",
        "    pred.append(int(input()))\n",
        "\n",
        "for j in range(n):\n",
        "    true.append(int(input()))\n",
        "    \n",
        "print(pred, true)\n",
        "\n",
        "\n",
        "def mse(pred, true):\n",
        "    if len(pred) != len(true):\n",
        "        raise ValueError(\"Векторы должны быть одинаковой длины.\")\n",
        "\n",
        "    return np.mean((np.array(pred) - np.array(true)) ** 2)\n",
        "\n",
        "print(mse(pred, true))\n",
        "\n",
        "\n",
        "def test_mse():\n",
        "    # Обычный случай\n",
        "    pred = [1, 2, 3]\n",
        "    true = [1, 2, 3]\n",
        "    assert mse(pred, true) == 0, \"Ошибка: Результат должен быть 0 для одинаковых векторов.\"\n",
        "\n",
        "    # Различие в одном элементе\n",
        "    pred = [1, 2, 3]\n",
        "    true = [1, 2, 4]\n",
        "    assert mse(pred, true) == (1/3), \"Ошибка: Ожидалось значение 1/3.\"\n",
        "\n",
        "    # Отрицательные числа\n",
        "    pred = [-1, -2, -3]\n",
        "    true = [-1, -2, -3]\n",
        "    assert mse(pred, true) == 0, \"Ошибка: Результат должен быть 0 для одинаковых векторов.\"\n",
        "\n",
        "    # Проверка на векторы разной длины\n",
        "    try:\n",
        "        pred = [1, 2, 3]\n",
        "        true = [1, 2]\n",
        "        mse(pred, true)\n",
        "    except ValueError as e:\n",
        "        assert str(e) == \"Векторы должны быть одинаковой длины.\", \"Ошибка: Ожидалась ошибка разной длины.\"\n",
        "\n",
        "    # Векторы с нулями\n",
        "    pred = [0, 0, 0]\n",
        "    true = [1, 1, 1]\n",
        "    assert mse(pred, true) == 1, \"Ошибка: Ожидалось значение 1 для векторов с нулями и единицами.\"\n",
        "\n",
        "    print(\"Все тесты пройдены.\")\n",
        "\n",
        "test_mse()"
      ]
    },
    {
      "cell_type": "markdown",
      "metadata": {
        "id": "vpIPKL439zkw"
      },
      "source": [
        "# Задача 6\n",
        "Написать функцию, принимающая целое положительное число. Функция должна вернуть\n",
        "строку вида “(n1**p1)(n2**p2)…(nk**pk)” представляющая разложение числа на простые\n",
        "множители (если pi == 1, то выводить только ni).\n",
        "Например, для числа 86240 функция должна вернуть “(2**5)(5)(7**2)(11)”. Написать тесты для кода"
      ]
    },
    {
      "cell_type": "code",
      "execution_count": 6,
      "metadata": {
        "id": "pFebmcZk94Jw"
      },
      "outputs": [
        {
          "name": "stdout",
          "output_type": "stream",
          "text": [
            "(2**5)(5)(7**2)(11)\n",
            "Все тесты пройдены.\n"
          ]
        }
      ],
      "source": [
        "from math import sqrt\n",
        "\n",
        "n = int(input())\n",
        "\n",
        "def prime_factors(n):\n",
        "    i = 2\n",
        "    factors = {}\n",
        "\n",
        "    while i <= sqrt(n):\n",
        "        while n % i == 0:\n",
        "            if i in factors:\n",
        "                factors[i] += 1\n",
        "            else:\n",
        "                factors[i] = 1\n",
        "            n //= i\n",
        "        i += 1\n",
        "\n",
        "    if n > 1:\n",
        "        factors[n] = 1\n",
        "\n",
        "    result = []\n",
        "    for prime, power in sorted(factors.items()):\n",
        "        if power == 1:\n",
        "            result.append(f\"({prime})\")\n",
        "        else:\n",
        "            result.append(f\"({prime}**{power})\")\n",
        "\n",
        "    return \"\".join(result)\n",
        "\n",
        "print(prime_factors(n))\n",
        "\n",
        "\n",
        "def test_prime_factors():\n",
        "    # Число является простым\n",
        "    assert prime_factors(11) == \"(11)\", \"Ошибка: Ожидалось (11)\"\n",
        "\n",
        "    # Число 86240\n",
        "    assert prime_factors(86240) == \"(2**5)(5)(7**2)(11)\", \"Ошибка: Ожидалось (2**5)(5)(7**2)(11)\"\n",
        "\n",
        "    # Разложение для числа 360\n",
        "    assert prime_factors(360) == \"(2**3)(3**2)(5)\", \"Ошибка: Ожидалось (2**3)(3**2)(5)\"\n",
        "\n",
        "    # Число 1 (не имеет простых множителей)\n",
        "    assert prime_factors(1) == \"\", \"Ошибка: Ожидалось пустая строка для числа 1\"\n",
        "\n",
        "    # Число 100 (разложение 2^2 * 5^2)\n",
        "    assert prime_factors(100) == \"(2**2)(5**2)\", \"Ошибка: Ожидалось (2**2)(5**2)\"\n",
        "\n",
        "    print(\"Все тесты пройдены.\")\n",
        "\n",
        "test_prime_factors()"
      ]
    },
    {
      "cell_type": "markdown",
      "metadata": {
        "id": "ps2s0BudX7A2"
      },
      "source": [
        "# Задача 7\n",
        "Написать функцию, принимающая целое число n, задающее количество кубиков. Функция\n",
        "должна определить, можно ли из данного кол-ва кубиков построить пирамиду, то есть\n",
        "можно ли представить число n как 1^2+2^2+3^2+…+k^2. Если можно, то функция должна\n",
        "вернуть k, иначе строку “It is impossible”. Написать тесты для кода"
      ]
    },
    {
      "cell_type": "code",
      "execution_count": 7,
      "metadata": {
        "id": "3YPjEXxhX_YT"
      },
      "outputs": [
        {
          "name": "stdout",
          "output_type": "stream",
          "text": [
            "It is impossible\n",
            "Все тесты пройдены.\n"
          ]
        }
      ],
      "source": [
        "n = int(input())\n",
        "\n",
        "\n",
        "def pyramid(n):\n",
        "    total = 0\n",
        "    k = 0\n",
        "    while total <= n:\n",
        "        k += 1\n",
        "        total += k ** 2\n",
        "        if total == n:\n",
        "            return k\n",
        "\n",
        "    return \"It is impossible\"\n",
        "\n",
        "\n",
        "print(pyramid(n))\n",
        "\n",
        "\n",
        "def test_pyramid():\n",
        "    # Возможная пирамида с n = 14 (1^2 + 2^2 + 3^2)\n",
        "    assert pyramid(14) == 3, \"Ошибка: Ожидалось 3 для n=14\"\n",
        "\n",
        "    # Невозможная пирамида с n = 20\n",
        "    assert pyramid(20) == \"It is impossible\", \"Ошибка: Ожидалось 'It is impossible' для n=20\"\n",
        "\n",
        "    # Пирамида с одним уровнем (1^2)\n",
        "    assert pyramid(1) == 1, \"Ошибка: Ожидалось 1 для n=1\"\n",
        "\n",
        "    # Пирамида для n = 30 (1^2 + 2^2 + 3^2 + 4^2)\n",
        "    assert pyramid(30) == 4, \"Ошибка: Ожидалось 4 для n=30\"\n",
        "\n",
        "    # Невозможная пирамида для n = 0\n",
        "    assert pyramid(0) == \"It is impossible\", \"Ошибка: Ожидалось 'It is impossible' для n=0\"\n",
        "\n",
        "    # Невозможная пирамида для n = 2 (нет таких квадратов, которые бы дали n=2)\n",
        "    assert pyramid(2) == \"It is impossible\", \"Ошибка: Ожидалось 'It is impossible' для n=2\"\n",
        "\n",
        "    print(\"Все тесты пройдены.\")\n",
        "\n",
        "\n",
        "test_pyramid()\n"
      ]
    },
    {
      "cell_type": "markdown",
      "metadata": {
        "id": "KeKgmIdAQMEJ"
      },
      "source": [
        "# Задача 8\n",
        "Функция принимает на вход положительное число и определяет является ли оно сбалансированным, т.е. сумма цифр до средних равна сумме цифр после. Средними в случае нечетного числа цифр считать одну цифру, в случае четного - две средних. Написать тесты для кода"
      ]
    },
    {
      "cell_type": "code",
      "execution_count": 8,
      "metadata": {
        "id": "gMAAqtqlQrZt"
      },
      "outputs": [
        {
          "name": "stdout",
          "output_type": "stream",
          "text": [
            "Сбалансировано\n",
            "Все тесты пройдены.\n"
          ]
        }
      ],
      "source": [
        "n = int(input())\n",
        "\n",
        "\n",
        "def is_balanced_number(n):\n",
        "\n",
        "    if n < 0:\n",
        "        return \"Введите положительное число\"\n",
        "\n",
        "    sum_left = 0\n",
        "    sum_right = 0\n",
        "    n = str(n)\n",
        "\n",
        "    if len(n) % 2 != 0:\n",
        "        for i in range(len(n) // 2):\n",
        "            sum_left += int(n[i])\n",
        "            sum_right += int(n[-i-1])\n",
        "        if sum_left == sum_right:\n",
        "            return \"Сбалансировано\"\n",
        "        return \"Не сбалансировано\"\n",
        "\n",
        "    else:\n",
        "        for i in range((len(n)-2) // 2):\n",
        "            sum_left += int(n[i])\n",
        "            sum_right += int(n[-i-1])\n",
        "        if sum_left == sum_right:\n",
        "            return \"Сбалансировано\"\n",
        "        return \"Не сбалансировано\"\n",
        "\n",
        "print(is_balanced_number(n))\n",
        "\n",
        "\n",
        "def test_is_balanced_number():\n",
        "    # Четное количество цифр, сбалансированное число\n",
        "    assert is_balanced_number(1221) == \"Сбалансировано\", \"Ошибка: Ожидалось cбалансированоe для числа 1221\"\n",
        "\n",
        "    # Четное количество цифр, несбалансированное число\n",
        "    assert is_balanced_number(1234) == \"Не сбалансировано\", \"Ошибка: Ожидалось не cбалансированоe для числа 1234\"\n",
        "\n",
        "    # Нечетное количество цифр, сбалансированное число\n",
        "    assert is_balanced_number(12321) == \"Сбалансировано\", \"Ошибка: Ожидалось cбалансированоe для числа 12321\"\n",
        "\n",
        "    # Нечетное количество цифр, несбалансированное число\n",
        "    assert is_balanced_number(12345) == \"Не сбалансировано\", \"Ошибка: Ожидалось не cбалансированоe для числа 12345\"\n",
        "\n",
        "    # Одноциферное число (считается сбалансированным)\n",
        "    assert is_balanced_number(7) == \"Сбалансировано\", \"Ошибка: Ожидалось cбалансированоe для числа 7\"\n",
        "\n",
        "    # Двухциферное число, сбалансированное\n",
        "    assert is_balanced_number(11) == \"Сбалансировано\", \"Ошибка: Ожидалось cбалансированоe для числа 11\"\n",
        "\n",
        "    # Отрицательное число\n",
        "    assert is_balanced_number(-100) == \"Введите положительное число\", \"Ожидалась запись: Введите положительное число\"\n",
        "\n",
        "    print(\"Все тесты пройдены.\")\n",
        "\n",
        "\n",
        "test_is_balanced_number()\n"
      ]
    }
  ],
  "metadata": {
    "colab": {
      "provenance": []
    },
    "kernelspec": {
      "display_name": "Python 3",
      "name": "python3"
    },
    "language_info": {
      "codemirror_mode": {
        "name": "ipython",
        "version": 3
      },
      "file_extension": ".py",
      "mimetype": "text/x-python",
      "name": "python",
      "nbconvert_exporter": "python",
      "pygments_lexer": "ipython3",
      "version": "3.10.2"
    }
  },
  "nbformat": 4,
  "nbformat_minor": 0
}

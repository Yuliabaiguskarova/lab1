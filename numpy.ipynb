{
  "cells": [
    {
      "cell_type": "markdown",
      "metadata": {
        "id": "vC84e9kzyxPy"
      },
      "source": [
        "<h1>Импорт библиотек"
      ]
    },
    {
      "cell_type": "code",
      "execution_count": 1,
      "metadata": {
        "id": "cgKeNegmQG5S"
      },
      "outputs": [],
      "source": [
        "import numpy as np\n",
        "import matplotlib.pyplot as plt"
      ]
    },
    {
      "cell_type": "markdown",
      "metadata": {
        "id": "qFM9uVU2x4Ls"
      },
      "source": [
        "<h1>Задача 1. Дан набор из $p$ матриц размерностью $(n, n)$ и $p$ векторов размерностью $(n, 1)$, найти сумму произведений матриц на векторы. Написать тесты для кода"
      ]
    },
    {
      "cell_type": "code",
      "execution_count": 15,
      "metadata": {
        "id": "IAbUvEiYyWFF"
      },
      "outputs": [
        {
          "name": "stdout",
          "output_type": "stream",
          "text": [
            "Все тесты пройдены!\n"
          ]
        },
        {
          "ename": "AssertionError",
          "evalue": "Ошибка в тесте 1: [[ 7.]\n [11.]] != [[ 9]\n [15]]",
          "output_type": "error",
          "traceback": [
            "\u001b[1;31m---------------------------------------------------------------------------\u001b[0m",
            "\u001b[1;31mAssertionError\u001b[0m                            Traceback (most recent call last)",
            "Cell \u001b[1;32mIn[15], line 43\u001b[0m\n\u001b[0;32m     40\u001b[0m \u001b[38;5;28mprint\u001b[39m(\u001b[38;5;124m\"\u001b[39m\u001b[38;5;124mВсе тесты пройдены!\u001b[39m\u001b[38;5;124m\"\u001b[39m)\n\u001b[0;32m     42\u001b[0m \u001b[38;5;66;03m# Запуск тестов\u001b[39;00m\n\u001b[1;32m---> 43\u001b[0m \u001b[43mtest_sum_prod\u001b[49m\u001b[43m(\u001b[49m\u001b[43m)\u001b[49m\n",
            "Cell \u001b[1;32mIn[15], line 24\u001b[0m, in \u001b[0;36mtest_sum_prod\u001b[1;34m()\u001b[0m\n\u001b[0;32m     22\u001b[0m result \u001b[38;5;241m=\u001b[39m sum_prod(X, V)\n\u001b[0;32m     23\u001b[0m expected \u001b[38;5;241m=\u001b[39m np\u001b[38;5;241m.\u001b[39marray([[\u001b[38;5;241m9\u001b[39m], [\u001b[38;5;241m15\u001b[39m]]) \u001b[38;5;66;03m# Ожидаемый результат\u001b[39;00m\n\u001b[1;32m---> 24\u001b[0m \u001b[38;5;28;01massert\u001b[39;00m np\u001b[38;5;241m.\u001b[39mallclose(result, expected), \u001b[38;5;124mf\u001b[39m\u001b[38;5;124m\"\u001b[39m\u001b[38;5;124mОшибка в тесте 1: \u001b[39m\u001b[38;5;132;01m{\u001b[39;00mresult\u001b[38;5;132;01m}\u001b[39;00m\u001b[38;5;124m != \u001b[39m\u001b[38;5;132;01m{\u001b[39;00mexpected\u001b[38;5;132;01m}\u001b[39;00m\u001b[38;5;124m\"\u001b[39m\n\u001b[0;32m     26\u001b[0m \u001b[38;5;66;03m# Тест 2: проверка на случай, когда все матрицы и векторы – нулевые\u001b[39;00m\n\u001b[0;32m     27\u001b[0m X \u001b[38;5;241m=\u001b[39m [np\u001b[38;5;241m.\u001b[39mzeros((\u001b[38;5;241m2\u001b[39m, \u001b[38;5;241m2\u001b[39m)), np\u001b[38;5;241m.\u001b[39mzeros((\u001b[38;5;241m2\u001b[39m, \u001b[38;5;241m2\u001b[39m))]\n",
            "\u001b[1;31mAssertionError\u001b[0m: Ошибка в тесте 1: [[ 7.]\n [11.]] != [[ 9]\n [15]]"
          ]
        }
      ],
      "source": [
        "\n",
        "import numpy as np\n",
        "\n",
        "def sum_prod(X, V):\n",
        "\n",
        "    #X - список из p матриц размерностью (n, n)\n",
        "    #V - список из p векторов размерностью (n, 1)\n",
        "    #Возвращает сумму произведений каждой матрицы на соответствующий вектор.\n",
        "\n",
        "    # Проверка, что количество матриц и векторов одинаковое\n",
        "    assert len(X) == len(V) #Количество матриц должно совпадать с количеством векторов\n",
        "\n",
        "    result = np.zeros((len(V[0]), 1)) # Инициализируем результирующий вектор\n",
        "    for i in range(len(X)):\n",
        "        result += np.dot(X[i], V[i]) # Умножение матрицы на вектор и суммирование\n",
        "    return result\n",
        "\n",
        "# Пример тестов\n",
        "def test_sum_prod():\n",
        "# Тест 1: проверка на небольших данных\n",
        "    X = [np.array([[1, 2], [3, 4]]), np.array([[2, 0], [0, 2]])]\n",
        "    V = [np.array([[1], [1]]), np.array([[2], [2]])]\n",
        "    result = sum_prod(X, V)\n",
        "    expected = np.array([[9], [15]]) # Ожидаемый результат\n",
        "    assert np.allclose(result, expected), f\"Ошибка в тесте 1: {result} != {expected}\"\n",
        "\n",
        "    # Тест 2: проверка на случай, когда все матрицы и векторы – нулевые\n",
        "    X = [np.zeros((2, 2)), np.zeros((2, 2))]\n",
        "    V = [np.zeros((2, 1)), np.zeros((2, 1))]\n",
        "    result = sum_prod(X, V)\n",
        "    expected = np.zeros((2, 1))\n",
        "    assert np.allclose(result, expected), f\"Ошибка в тесте 2: {result} != {expected}\"\n",
        "\n",
        "    # Тест 3: проверка на единичных матрицах и векторах\n",
        "    X = [np.eye(2), np.eye(2)]\n",
        "    V = [np.ones((2, 1)), np.ones((2, 1))]\n",
        "    result = sum_prod(X, V)\n",
        "    expected = np.array([[2], [2]])\n",
        "    assert np.allclose(result, expected), f\"Ошибка в тесте 3: {result} != {expected}\"\n",
        "\n",
        "print(\"Все тесты пройдены!\")\n",
        "\n",
        "# Запуск тестов\n",
        "test_sum_prod()\n",
        "\n"
      ]
    },
    {
      "cell_type": "markdown",
      "metadata": {
        "id": "TKwPG4fIy2w4"
      },
      "source": [
        "<h1>Задача 2. Дана матрица M, напишите функцию, которая бинаризует матрицу по некоторому threshold (то есть, все значения большие threshold становятся равными 1, иначе 0). Напишите тесты для кода"
      ]
    },
    {
      "cell_type": "code",
      "execution_count": 10,
      "metadata": {
        "id": "KQDNMgsjRNH7"
      },
      "outputs": [
        {
          "name": "stdout",
          "output_type": "stream",
          "text": [
            "Все тесты пройдены!\n"
          ]
        }
      ],
      "source": [
        "import numpy as np\n",
        "\n",
        "def binarize(M, threshold=0.5):\n",
        "\n",
        "#Бинаризация матрицы M по порогу threshold.\n",
        "#Значения, большие порога, становятся 1, остальные 0.\n",
        "\n",
        "    return (M > threshold).astype(int)\n",
        "\n",
        "# Пример тестов\n",
        "def test_binarize():\n",
        "    # Тест 1: стандартный случай с порогом 0.5\n",
        "    M = np.array([[0.2, 0.6], [0.7, 0.3]])\n",
        "    result = binarize(M)\n",
        "    expected = np.array([[0, 1], [1, 0]])\n",
        "    assert np.array_equal(result, expected), f\"Ошибка в тесте 1: {result} != {expected}\"\n",
        "\n",
        "    # Тест 2: порог 0.7\n",
        "    M = np.array([[0.2, 0.8], [0.7, 0.9]])\n",
        "    result = binarize(M, threshold=0.7)\n",
        "    expected = np.array([[0, 1], [0, 1]])\n",
        "    assert np.array_equal(result, expected), f\"Ошибка в тесте 2: {result} != {expected}\"\n",
        "\n",
        "    # Тест 3: порог 1 (все значения должны быть 0)\n",
        "    M = np.array([[0.2, 0.8], [0.7, 0.9]])\n",
        "    result = binarize(M, threshold=1)\n",
        "    expected = np.array([[0, 0], [0, 0]])\n",
        "    assert np.array_equal(result, expected), f\"Ошибка в тесте 3: {result} != {expected}\"\n",
        "\n",
        "    # Тест 4: порог 0 (все значения должны быть 1)\n",
        "    M = np.array([[0.2, 0.8], [0.7, 0.9]])\n",
        "    result = binarize(M, threshold=0)\n",
        "    expected = np.array([[1, 1], [1, 1]])\n",
        "    assert np.array_equal(result, expected), f\"Ошибка в тесте 4: {result} != {expected}\" \n",
        "    print(\"Все тесты пройдены!\")\n",
        "\n",
        "# Запуск тестов\n",
        "test_binarize()\n"
      ]
    },
    {
      "cell_type": "markdown",
      "metadata": {
        "id": "IY5L-h-7zWhN"
      },
      "source": [
        "<h1>Задача 3. Напишите функцию, которая возвращает уникальные элементы из каждой строки матрицы. Напишите такую же функцию, но для столбцов. Напишите тесты для кода"
      ]
    },
    {
      "cell_type": "code",
      "execution_count": 13,
      "metadata": {
        "id": "-8dEZhR0SBC-"
      },
      "outputs": [
        {
          "name": "stdout",
          "output_type": "stream",
          "text": [
            "Все тесты пройдены!\n"
          ]
        }
      ],
      "source": [
        "import numpy as np\n",
        "\n",
        "def unique_rows(mat):\n",
        "    \n",
        "    #Возвращает уникальные элементы для каждой строки матрицы.\n",
        "    \n",
        "    return [np.unique(row) for row in mat]\n",
        "\n",
        "def unique_columns(mat):\n",
        "\n",
        "    #Возвращает уникальные элементы для каждого столбца матрицы.\n",
        "    \n",
        "    return [np.unique(col) for col in mat.T]  # Транспонируем матрицу для работы со столбцами\n",
        "\n",
        "# Пример тестов\n",
        "def test_unique_rows_and_columns():\n",
        "    mat = np.array([[1, 2, 2, 3],\n",
        "                    [3, 3, 3, 4],\n",
        "                    [5, 5, 6, 6]])\n",
        "    \n",
        "    # Тест для уникальных элементов строк\n",
        "    result_rows = unique_rows(mat)\n",
        "    expected_rows = [np.array([1, 2, 3]), np.array([3, 4]), np.array([5, 6])]\n",
        "    assert all(np.array_equal(result, expected) for result, expected in zip(result_rows, expected_rows)), f\"Ошибка в unique_rows: {result_rows} != {expected_rows}\"\n",
        "    \n",
        "    # Тест для уникальных элементов столбцов\n",
        "    result_columns = unique_columns(mat)\n",
        "    expected_columns = [np.array([1, 3, 5]), np.array([2, 3, 5]), np.array([2, 3, 6]), np.array([3, 4, 6])]\n",
        "    assert all(np.array_equal(result, expected) for result, expected in zip(result_columns, expected_columns)), f\"Ошибка в unique_columns: {result_columns} != {expected_columns}\"\n",
        "    \n",
        "    print(\"Все тесты пройдены!\")\n",
        "\n",
        "# Запуск тестов\n",
        "test_unique_rows_and_columns()\n"
      ]
    },
    {
      "cell_type": "markdown",
      "metadata": {
        "id": "roYAlo4Jz-lH"
      },
      "source": [
        "<h1>Задача 4. Напишите функцию, которая заполняет матрицу с размерами $(m, n)$ случайными числами, распределенными по нормальному закону. Затем считает мат. ожидание и дисперсию для каждого из столбцов и строк, а также строит для каждой строки и столбца гистограмму значений (использовать функцию hist из модуля matplotlib.plot)"
      ]
    },
    {
      "cell_type": "code",
      "execution_count": null,
      "metadata": {
        "id": "nZK_71hMSQzv"
      },
      "outputs": [],
      "source": [
        "# Your code goes here"
      ]
    },
    {
      "cell_type": "markdown",
      "metadata": {
        "id": "BDyATNdM0dJ2"
      },
      "source": [
        "<h1>Задача 5. Напишите функцию, которая заполняет матрицу $(m, n)$ в шахматном порядке заданными числами $a$ и $b$. Напишите тесты для кода"
      ]
    },
    {
      "cell_type": "code",
      "execution_count": null,
      "metadata": {
        "id": "RWNJYWQGecS6"
      },
      "outputs": [],
      "source": [
        "def chess(m, n, a, b):\n",
        "    # Your code goes here\n",
        "    pass"
      ]
    },
    {
      "cell_type": "markdown",
      "metadata": {
        "id": "-ymXLtTN0vB6"
      },
      "source": [
        "<h1>Задача 6. Напишите функцию, которая отрисовывает прямоугольник с заданными размерами (a, b) на изображении размера (m, n), цвет фона задайте в схеме RGB, как и цвет прямоугольника. Цвета также должны быть параметрами функции. Напишите аналогичную функцию но для овала с полуосями a и b. Напишите тесты для кода.\n",
        "Примечание: уравнение эллипса (границы овала) можно записать как:\n",
        "<h1>$\\frac{(x-x_0)^2}{a^2}+\\frac{(y-y_0)^2}{b^2}=1$"
      ]
    },
    {
      "cell_type": "code",
      "execution_count": 1,
      "metadata": {
        "id": "sNfl1t_kfOF4"
      },
      "outputs": [],
      "source": [
        "def draw_rectangle(a, b, m, n, rectangle_color, background_color):\n",
        "    # Your code goes here\n",
        "    pass\n",
        "\n",
        "def draw_ellipse(a, b, m, n, ellipse_color, background_color):\n",
        "    # Your code goes here\n",
        "    pass"
      ]
    },
    {
      "cell_type": "markdown",
      "metadata": {
        "id": "S82c38oz244H"
      },
      "source": [
        "<h1>Задача 7. Дан некий временной ряд. Для данного ряда нужно найти его: математическое ожидание, дисперсию, СКО, найти все локальные максимумы и минимумы (локальный максимум - это точка, которая больше своих соседних точек, а локальный минимум - это точка, которая меньше своих соседей), а также вычислить для данного ряда другой ряд, получаемый методом скользящего среднего с размером окна $p$.\n",
        "<h1>Примечание: метод скользящего среднего подразумевает нахождение среднего из подмножетсва ряда размером $p$"
      ]
    },
    {
      "cell_type": "code",
      "execution_count": null,
      "metadata": {
        "id": "Zb9mIVge5MMt"
      },
      "outputs": [],
      "source": [
        "# Your code goes here"
      ]
    },
    {
      "cell_type": "markdown",
      "metadata": {
        "id": "jPkylmOX5O9n"
      },
      "source": [
        "<h1> Задача 8. Дан некоторый вектор с целочисленными метками классов, напишите функцию, которая выполняет one-hot-encoding для данного вектора\n",
        "<h1> One-hot-encoding - представление, в котором на месте метки некоторого класса стоит 1, в остальных позициях стоит 0. Например для вектора [0, 2, 3, 0] one-hot-encoding выглядит как: [[1, 0, 0, 0], [0, 0, 1, 0], [0, 0, 0, 1], [1, 0, 0, 0]]"
      ]
    },
    {
      "cell_type": "code",
      "execution_count": 14,
      "metadata": {
        "id": "Y-jlnZvw56lD"
      },
      "outputs": [
        {
          "name": "stdout",
          "output_type": "stream",
          "text": [
            "[[1. 0. 0. 0.]\n",
            " [0. 0. 1. 0.]\n",
            " [0. 0. 0. 1.]\n",
            " [1. 0. 0. 0.]]\n"
          ]
        }
      ],
      "source": [
        "import numpy as np\n",
        "\n",
        "def one_hot_encode(vector):\n",
        "    # Определяем количество уникальных классов\n",
        "    num_classes = np.max(vector) + 1\n",
        "    # Выполняем one-hot encoding\n",
        "    one_hot = np.eye(num_classes)[vector]\n",
        "    return one_hot\n",
        "\n",
        "# Пример использования\n",
        "vector = [0, 2, 3, 0]\n",
        "encoded = one_hot_encode(vector)\n",
        "print(encoded)\n"
      ]
    }
  ],
  "metadata": {
    "colab": {
      "provenance": []
    },
    "kernelspec": {
      "display_name": "Python 3",
      "name": "python3"
    },
    "language_info": {
      "codemirror_mode": {
        "name": "ipython",
        "version": 3
      },
      "file_extension": ".py",
      "mimetype": "text/x-python",
      "name": "python",
      "nbconvert_exporter": "python",
      "pygments_lexer": "ipython3",
      "version": "3.10.2"
    }
  },
  "nbformat": 4,
  "nbformat_minor": 0
}
